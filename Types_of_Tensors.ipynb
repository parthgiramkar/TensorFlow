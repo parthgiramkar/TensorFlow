{
  "cells": [
    {
      "cell_type": "markdown",
      "source": [
        "RAGGED TENSORS"
      ],
      "metadata": {
        "id": "iVze20hPv-P4"
      }
    },
    {
      "cell_type": "code",
      "execution_count": 1,
      "metadata": {
        "id": "YlMFQgm-JVsA"
      },
      "outputs": [],
      "source": [
        "import tensorflow as tb"
      ]
    },
    {
      "cell_type": "code",
      "execution_count": null,
      "metadata": {
        "colab": {
          "base_uri": "https://localhost:8080/"
        },
        "id": "0M9qdMdNJhkQ",
        "outputId": "69457c28-6d24-4980-e60c-3ad400c16e24"
      },
      "outputs": [
        {
          "output_type": "stream",
          "name": "stdout",
          "text": [
            "(3, None)\n"
          ]
        },
        {
          "output_type": "execute_result",
          "data": {
            "text/plain": [
              "<tf.RaggedTensor [[4, 2, 3], [4, 1], [0]]>"
            ]
          },
          "metadata": {},
          "execution_count": 90
        }
      ],
      "source": [
        "# h1 = tb.constant([\n",
        "#     [1,2,3],[4,8,9],[4,5]      thiscan't_be conv_as itsinner_dimension_arenotof_equal_length\n",
        "# ])\n",
        "\n",
        "h1=([\n",
        "  [4,2,3],[4,1],[0]\n",
        "\n",
        "])\n",
        "top = tb.ragged.constant(h1)\n",
        "print(top.shape)\n",
        "top\n"
      ]
    },
    {
      "cell_type": "code",
      "execution_count": null,
      "metadata": {
        "id": "35t5gPXALKcK",
        "colab": {
          "base_uri": "https://localhost:8080/"
        },
        "outputId": "39ad391d-08c8-473f-c80c-b3f3e8350f07"
      },
      "outputs": [
        {
          "output_type": "execute_result",
          "data": {
            "text/plain": [
              "<tf.RaggedTensor [[4, 5, 6, 1], [21, 15], [], [47], []]>"
            ]
          },
          "metadata": {},
          "execution_count": 92
        }
      ],
      "source": [
        "# RaggedTensor with rows partitioned by row_lengths\n",
        "\n",
        "h2 = [4,5,6,1,21,15,47]\n",
        "tb.RaggedTensor.from_row_lengths(h2,[4,2,0,1,0])       # returns  rank(dimen)+1"
      ]
    },
    {
      "cell_type": "code",
      "execution_count": 6,
      "metadata": {
        "colab": {
          "base_uri": "https://localhost:8080/"
        },
        "id": "x2upbKf9Q9qG",
        "outputId": "22b1b174-7032-4fba-c422-3f89b1e3c3e2"
      },
      "outputs": [
        {
          "output_type": "execute_result",
          "data": {
            "text/plain": [
              "<tf.RaggedTensor [[4, 5], [1, 4, 5, 7]]>"
            ]
          },
          "metadata": {},
          "execution_count": 6
        }
      ],
      "source": [
        "h2 = [ [4,5,6,1,21,15,47],[1,4,5,7,8,5,7]]            # from_tensor expects only regular_matrix(dense matrix)not_irregular listortensor\n",
        "tb.RaggedTensor.from_tensor(h2,[2,4])"
      ]
    },
    {
      "cell_type": "code",
      "execution_count": null,
      "metadata": {
        "id": "StIhV26DLKff"
      },
      "outputs": [],
      "source": []
    },
    {
      "cell_type": "markdown",
      "source": [
        "SPARSE TENSOR"
      ],
      "metadata": {
        "id": "xQA7kXWhpOuB"
      }
    },
    {
      "cell_type": "code",
      "execution_count": null,
      "metadata": {
        "id": "EX751lGLJhnx"
      },
      "outputs": [],
      "source": [
        "# tb.sparse.SparseTensor([[0,1,2],[0,1,1]], [15,45],[1,2,3])    only expects 2dlist/tensor\n",
        "# tb.sparse.to_dense(tb.sparse.SparseTensor([[0,1,2],[0,1,1]], [15,45],[1,2,3]))"
      ]
    },
    {
      "cell_type": "code",
      "source": [
        "got = tb.sparse.SparseTensor(indices=[[0,0],[1,0]] , values=[45,11] , dense_shape=[5,7])      #indices_should_beinsorted order\n",
        "print(got)"
      ],
      "metadata": {
        "colab": {
          "base_uri": "https://localhost:8080/"
        },
        "id": "OYCMpL1Nn4vt",
        "outputId": "9b04611d-4e63-400f-cde7-7002ec02b3b5"
      },
      "execution_count": null,
      "outputs": [
        {
          "output_type": "stream",
          "name": "stdout",
          "text": [
            "SparseTensor(indices=tf.Tensor(\n",
            "[[0 0]\n",
            " [1 0]], shape=(2, 2), dtype=int64), values=tf.Tensor([45 11], shape=(2,), dtype=int32), dense_shape=tf.Tensor([5 7], shape=(2,), dtype=int64))\n"
          ]
        }
      ]
    },
    {
      "cell_type": "code",
      "execution_count": null,
      "metadata": {
        "id": "OB9nh8wTJht4",
        "colab": {
          "base_uri": "https://localhost:8080/"
        },
        "outputId": "8e262640-8b76-4e01-96a4-6c78426e0cfd"
      },
      "outputs": [
        {
          "output_type": "execute_result",
          "data": {
            "text/plain": [
              "<tf.Tensor: shape=(5, 7), dtype=int32, numpy=\n",
              "array([[45,  0,  0,  0,  0,  0,  0],\n",
              "       [11,  0,  0,  0,  0,  0,  0],\n",
              "       [ 0,  0,  0,  0,  0,  0,  0],\n",
              "       [ 0,  0,  0,  0,  0,  0,  0],\n",
              "       [ 0,  0,  0,  0,  0,  0,  0]], dtype=int32)>"
            ]
          },
          "metadata": {},
          "execution_count": 114
        }
      ],
      "source": [
        "tb.sparse.to_dense(got)"
      ]
    },
    {
      "cell_type": "code",
      "source": [],
      "metadata": {
        "id": "wgqfVxnUt0Mc"
      },
      "execution_count": null,
      "outputs": []
    },
    {
      "cell_type": "markdown",
      "source": [
        "STRING TENSORS"
      ],
      "metadata": {
        "id": "HjK0ROPDt1Wy"
      }
    },
    {
      "cell_type": "code",
      "source": [
        "st = tb.constant([\n",
        "    'Hey','Fabian yo',\"nice\"\n",
        "])"
      ],
      "metadata": {
        "id": "BUutWj0rt0P5"
      },
      "execution_count": null,
      "outputs": []
    },
    {
      "cell_type": "code",
      "source": [
        "# Join method\n",
        "\n",
        "tb.strings.join(st,separator=' ')                # Perform element-wise concatenation of a list of string tensors."
      ],
      "metadata": {
        "colab": {
          "base_uri": "https://localhost:8080/"
        },
        "id": "jW70RJist3jO",
        "outputId": "626efc5c-297e-4b7d-8b40-f243e29c1d45"
      },
      "execution_count": null,
      "outputs": [
        {
          "output_type": "execute_result",
          "data": {
            "text/plain": [
              "<tf.Tensor: shape=(), dtype=string, numpy=b'Hey Fabian yo nice'>"
            ]
          },
          "metadata": {},
          "execution_count": 128
        }
      ]
    },
    {
      "cell_type": "code",
      "source": [
        "tb.strings.join(st,separator='-_-')"
      ],
      "metadata": {
        "colab": {
          "base_uri": "https://localhost:8080/"
        },
        "id": "73iEXJD5t3my",
        "outputId": "0635fe69-c70a-4733-a3f2-e96b1fdd72f1"
      },
      "execution_count": null,
      "outputs": [
        {
          "output_type": "execute_result",
          "data": {
            "text/plain": [
              "<tf.Tensor: shape=(), dtype=string, numpy=b'Hey-_-Fabian yo-_-nice'>"
            ]
          },
          "metadata": {},
          "execution_count": 129
        }
      ]
    },
    {
      "cell_type": "code",
      "source": [
        "tb.strings.lower(st)"
      ],
      "metadata": {
        "colab": {
          "base_uri": "https://localhost:8080/"
        },
        "id": "irwnqJSwvYJ_",
        "outputId": "4717506a-2ea3-4dc6-a6ee-969acb48ab8c"
      },
      "execution_count": null,
      "outputs": [
        {
          "output_type": "execute_result",
          "data": {
            "text/plain": [
              "<tf.Tensor: shape=(3,), dtype=string, numpy=array([b'hey', b'fabian yo', b'nice'], dtype=object)>"
            ]
          },
          "metadata": {},
          "execution_count": 130
        }
      ]
    },
    {
      "cell_type": "code",
      "source": [],
      "metadata": {
        "id": "m4HU0bUwvYNe"
      },
      "execution_count": null,
      "outputs": []
    },
    {
      "cell_type": "code",
      "source": [
        "# VARIABLES TENSORS"
      ],
      "metadata": {
        "id": "LNqcCFLgv6h8"
      },
      "execution_count": null,
      "outputs": []
    },
    {
      "cell_type": "code",
      "source": [
        "tb.Variable(h2)\n"
      ],
      "metadata": {
        "colab": {
          "base_uri": "https://localhost:8080/"
        },
        "id": "EmdGaZf2wsFX",
        "outputId": "bbd754b8-e1f0-451e-86ac-3e26df74c167"
      },
      "execution_count": null,
      "outputs": [
        {
          "output_type": "execute_result",
          "data": {
            "text/plain": [
              "<tf.Variable 'Variable:0' shape=(2, 7) dtype=int32, numpy=\n",
              "array([[ 4,  5,  6,  1, 21, 15, 47],\n",
              "       [ 1,  4,  5,  7,  8,  5,  7]], dtype=int32)>"
            ]
          },
          "metadata": {},
          "execution_count": 136
        }
      ]
    },
    {
      "cell_type": "code",
      "source": [
        "ho = tb.Variable(h2,name='any')\n",
        "print(ho)"
      ],
      "metadata": {
        "colab": {
          "base_uri": "https://localhost:8080/"
        },
        "id": "k4Z4EVWOwsJC",
        "outputId": "2aaca9a8-d823-4180-c8dd-3a607621b0a5"
      },
      "execution_count": 8,
      "outputs": [
        {
          "output_type": "stream",
          "name": "stdout",
          "text": [
            "<tf.Variable 'any:0' shape=(2, 7) dtype=int32, numpy=\n",
            "array([[ 4,  5,  6,  1, 21, 15, 47],\n",
            "       [ 1,  4,  5,  7,  8,  5,  7]], dtype=int32)>\n"
          ]
        }
      ]
    },
    {
      "cell_type": "code",
      "source": [
        "ho.assign_sub([[ 1,  4,  5,  7,  8,  5,  7],[4,  5,  6,  1, 21, 15, 47]])"
      ],
      "metadata": {
        "colab": {
          "base_uri": "https://localhost:8080/"
        },
        "id": "ji2r6uYgv6lf",
        "outputId": "c5c36ea7-4d2d-4a83-83ab-9fbf8731269b"
      },
      "execution_count": 9,
      "outputs": [
        {
          "output_type": "execute_result",
          "data": {
            "text/plain": [
              "<tf.Variable 'UnreadVariable' shape=(2, 7) dtype=int32, numpy=\n",
              "array([[  3,   1,   1,  -6,  13,  10,  40],\n",
              "       [ -3,  -1,  -1,   6, -13, -10, -40]], dtype=int32)>"
            ]
          },
          "metadata": {},
          "execution_count": 9
        }
      ]
    },
    {
      "cell_type": "code",
      "source": [],
      "metadata": {
        "id": "16M735vFxki7"
      },
      "execution_count": null,
      "outputs": []
    },
    {
      "cell_type": "code",
      "source": [],
      "metadata": {
        "id": "aynsNRvoxkmY"
      },
      "execution_count": null,
      "outputs": []
    }
  ],
  "metadata": {
    "colab": {
      "provenance": []
    },
    "kernelspec": {
      "display_name": "Python 3",
      "name": "python3"
    },
    "language_info": {
      "name": "python"
    }
  },
  "nbformat": 4,
  "nbformat_minor": 0
}