{
  "nbformat": 4,
  "nbformat_minor": 0,
  "metadata": {
    "colab": {
      "provenance": []
    },
    "kernelspec": {
      "name": "python3",
      "display_name": "Python 3"
    },
    "language_info": {
      "name": "python"
    }
  },
  "cells": [
    {
      "cell_type": "code",
      "execution_count": null,
      "metadata": {
        "id": "00Igeequj5yu"
      },
      "outputs": [],
      "source": [
        "import tensorflow as tb"
      ]
    },
    {
      "cell_type": "code",
      "source": [
        "tensor_zerodimnesion = tb.constant(4)    # .constant creates_tensor_whose_val(immutable)\n",
        "print(tensor_zerodimnesion)\n",
        ""
      ],
      "metadata": {
        "colab": {
          "base_uri": "https://localhost:8080/"
        },
        "id": "MXk_Xs6-kQk8",
        "outputId": "fa45ae1c-0ded-479c-932c-ffa52ed6c803"
      },
      "execution_count": null,
      "outputs": [
        {
          "output_type": "stream",
          "name": "stdout",
          "text": [
            "tf.Tensor(4, shape=(), dtype=int32)\n"
          ]
        }
      ]
    },
    {
      "cell_type": "code",
      "source": [
        "tensor_one_dimen = tb.constant([2,0,-3,8 , 226.])      # also_datatype_changes\n",
        "print(tensor_one_dimen)"
      ],
      "metadata": {
        "colab": {
          "base_uri": "https://localhost:8080/"
        },
        "id": "tRAwReRYlNKx",
        "outputId": "4776b5b9-b0c6-4105-c38b-8e79ffd58e07"
      },
      "execution_count": null,
      "outputs": [
        {
          "output_type": "stream",
          "name": "stdout",
          "text": [
            "tf.Tensor([  2.   0.  -3.   8. 226.], shape=(5,), dtype=float32)\n"
          ]
        }
      ]
    },
    {
      "cell_type": "code",
      "source": [],
      "metadata": {
        "id": "gQWR_ceBlNVb"
      },
      "execution_count": null,
      "outputs": []
    },
    {
      "cell_type": "code",
      "source": [
        "tensor_two_dimen = tb.constant([\n",
        "    [0,1,2],[5,61,4] ,\n",
        "      [5,2,4],\n",
        "\n",
        "\n",
        "])\n",
        "print(tensor_two_dimen)"
      ],
      "metadata": {
        "colab": {
          "base_uri": "https://localhost:8080/"
        },
        "id": "v4OeXMTW9bFX",
        "outputId": "53ff6c65-ae0b-4380-d69a-2aae4396fc0d"
      },
      "execution_count": null,
      "outputs": [
        {
          "output_type": "stream",
          "name": "stdout",
          "text": [
            "tf.Tensor(\n",
            "[[ 0  1  2]\n",
            " [ 5 61  4]\n",
            " [ 5  2  4]], shape=(3, 3), dtype=int32)\n"
          ]
        }
      ]
    },
    {
      "cell_type": "code",
      "source": [
        "tensor_three_dimen = tb.constant([\n",
        "     [\n",
        "      [0,1,2],[5,61,4] ,\n",
        "      [5,2,4],\n",
        "     ]  ,\n",
        "#[\n",
        "   #[4,2,1],[8,1,0] ,[0,6,3]]\n",
        "\n",
        "])\n",
        "print(tensor_three_dimen)"
      ],
      "metadata": {
        "colab": {
          "base_uri": "https://localhost:8080/"
        },
        "id": "N3P4XHV198__",
        "outputId": "0babba14-6e0b-43f0-b5a2-d63d532a9daf"
      },
      "execution_count": null,
      "outputs": [
        {
          "output_type": "stream",
          "name": "stdout",
          "text": [
            "tf.Tensor(\n",
            "[[[ 0  1  2]\n",
            "  [ 5 61  4]\n",
            "  [ 5  2  4]]], shape=(1, 3, 3), dtype=int32)\n"
          ]
        }
      ]
    },
    {
      "cell_type": "code",
      "source": [
        "print(tensor_three_dimen.shape)           # slight diff in function\n",
        "print(tb.shape  (tensor_three_dimen) )"
      ],
      "metadata": {
        "colab": {
          "base_uri": "https://localhost:8080/"
        },
        "id": "YabDjNPE9bKM",
        "outputId": "016134dc-24a6-4b55-bfee-1f6f327c7567"
      },
      "execution_count": null,
      "outputs": [
        {
          "output_type": "stream",
          "name": "stdout",
          "text": [
            "(1, 3, 3)\n",
            "tf.Tensor([1 3 3], shape=(3,), dtype=int32)\n"
          ]
        }
      ]
    },
    {
      "cell_type": "code",
      "source": [
        "print(tensor_two_dimen.ndim)"
      ],
      "metadata": {
        "colab": {
          "base_uri": "https://localhost:8080/"
        },
        "id": "ARnm_vCj-U6-",
        "outputId": "e733c449-82ab-4012-bf7d-ab593ac3663b"
      },
      "execution_count": null,
      "outputs": [
        {
          "output_type": "stream",
          "name": "stdout",
          "text": [
            "2\n"
          ]
        }
      ]
    },
    {
      "cell_type": "code",
      "source": [
        "tensor_four_dimension = tb.constant([[\n",
        "[\n",
        "[1,0,8] ] , [\n",
        "    [5,1,9]\n",
        "]\n",
        "\n",
        "\n",
        "\n",
        "]])\n",
        "print(tensor_four_dimension)"
      ],
      "metadata": {
        "colab": {
          "base_uri": "https://localhost:8080/"
        },
        "id": "PCyOiQ7u-U_M",
        "outputId": "9447247c-49aa-475f-c28f-c7f9cddaef10"
      },
      "execution_count": null,
      "outputs": [
        {
          "output_type": "stream",
          "name": "stdout",
          "text": [
            "tf.Tensor(\n",
            "[[[[1 0 8]]\n",
            "\n",
            "  [[5 1 9]]]], shape=(1, 2, 1, 3), dtype=int32)\n"
          ]
        }
      ]
    },
    {
      "cell_type": "markdown",
      "source": [
        "CAST METHOD"
      ],
      "metadata": {
        "id": "9SMxQyK-foHG"
      }
    },
    {
      "cell_type": "code",
      "source": [
        "tensor_one_dimen = tb.constant([2,0,-3,8 , 226.] , dtype=tb.float32)\n",
        "\n",
        "cast_tensor = tb.cast(tensor_one_dimen , dtype=tb.int32)          # creates_tensor_tonew_type\n",
        "cast_tense = tb.cast(tensor_one_dimen , dtype=tb.bool)\n",
        "\n",
        "print(tensor_one_dimen)\n",
        "print(cast_tensor)\n",
        "print(cast_tense)"
      ],
      "metadata": {
        "colab": {
          "base_uri": "https://localhost:8080/"
        },
        "id": "2kYWSavBAG8P",
        "outputId": "de607bcb-9a2c-47ff-cb33-343b09f26b74"
      },
      "execution_count": null,
      "outputs": [
        {
          "output_type": "stream",
          "name": "stdout",
          "text": [
            "tf.Tensor([  2.   0.  -3.   8. 226.], shape=(5,), dtype=float32)\n",
            "tf.Tensor([  2   0  -3   8 226], shape=(5,), dtype=int32)\n",
            "tf.Tensor([ True False  True  True  True], shape=(5,), dtype=bool)\n"
          ]
        }
      ]
    },
    {
      "cell_type": "code",
      "source": [],
      "metadata": {
        "id": "UO5PNnEQG1Ow"
      },
      "execution_count": null,
      "outputs": []
    },
    {
      "cell_type": "code",
      "source": [
        "import numpy as np\n",
        "nop = np.array([1,2,5])\n",
        "print(nop)"
      ],
      "metadata": {
        "colab": {
          "base_uri": "https://localhost:8080/"
        },
        "id": "EEpkh04RAHBL",
        "outputId": "b5e78f1f-d932-4e22-85ce-749e46396a15"
      },
      "execution_count": null,
      "outputs": [
        {
          "output_type": "stream",
          "name": "stdout",
          "text": [
            "[1 2 5]\n"
          ]
        }
      ]
    },
    {
      "cell_type": "markdown",
      "source": [
        "CONVERTING TO TENSOR\n"
      ],
      "metadata": {
        "id": "spdn9i1CftS_"
      }
    },
    {
      "cell_type": "code",
      "source": [
        "top = tb.convert_to_tensor(nop, dtype=tb.float32)\n",
        "print(top)"
      ],
      "metadata": {
        "colab": {
          "base_uri": "https://localhost:8080/"
        },
        "id": "HN49xO9xCLIi",
        "outputId": "82425372-5b75-4ac1-f35a-41a934cb1ee9"
      },
      "execution_count": null,
      "outputs": [
        {
          "output_type": "stream",
          "name": "stdout",
          "text": [
            "tf.Tensor([1. 2. 5.], shape=(3,), dtype=float32)\n"
          ]
        }
      ]
    },
    {
      "cell_type": "markdown",
      "source": [
        "tb.eye METHOD"
      ],
      "metadata": {
        "id": "_7kKOst8MoWU"
      }
    },
    {
      "cell_type": "code",
      "source": [
        "eio = tb.eye(                               # IDENTity matrix\n",
        "    num_rows=5,\n",
        "    num_columns=None,\n",
        "            batch_shape=[2],\n",
        "    dtype=tb.dtypes.float32,\n",
        "    name=None\n",
        ")\n",
        "print(3*eio)"
      ],
      "metadata": {
        "colab": {
          "base_uri": "https://localhost:8080/"
        },
        "id": "_PcfzdUPCLNH",
        "outputId": "781b4a6d-534c-4929-dc38-458326257558"
      },
      "execution_count": null,
      "outputs": [
        {
          "output_type": "stream",
          "name": "stdout",
          "text": [
            "tf.Tensor(\n",
            "[[[3. 0. 0. 0. 0.]\n",
            "  [0. 3. 0. 0. 0.]\n",
            "  [0. 0. 3. 0. 0.]\n",
            "  [0. 0. 0. 3. 0.]\n",
            "  [0. 0. 0. 0. 3.]]\n",
            "\n",
            " [[3. 0. 0. 0. 0.]\n",
            "  [0. 3. 0. 0. 0.]\n",
            "  [0. 0. 3. 0. 0.]\n",
            "  [0. 0. 0. 3. 0.]\n",
            "  [0. 0. 0. 0. 3.]]], shape=(2, 5, 5), dtype=float32)\n"
          ]
        }
      ]
    },
    {
      "cell_type": "markdown",
      "source": [
        "tb.zeros and tf.ones METHOD"
      ],
      "metadata": {
        "id": "Ac_4CBZlgZDW"
      }
    },
    {
      "cell_type": "code",
      "source": [
        "# creating tensors which are all_set to zero"
      ],
      "metadata": {
        "id": "zLNUgnzyL6tM"
      },
      "execution_count": null,
      "outputs": []
    },
    {
      "cell_type": "code",
      "source": [
        "zerop = tb.zeros([4,3] , dtype=tb.float16)\n",
        "print(zerop)"
      ],
      "metadata": {
        "id": "im5zRCcZME7b",
        "colab": {
          "base_uri": "https://localhost:8080/"
        },
        "outputId": "6ab58dfe-a048-4a80-9216-e5ba3592d71a"
      },
      "execution_count": null,
      "outputs": [
        {
          "output_type": "stream",
          "name": "stdout",
          "text": [
            "tf.Tensor(\n",
            "[[0. 0. 0.]\n",
            " [0. 0. 0.]\n",
            " [0. 0. 0.]\n",
            " [0. 0. 0.]], shape=(4, 3), dtype=float16)\n"
          ]
        }
      ]
    },
    {
      "cell_type": "markdown",
      "source": [
        "tf.rank SAME AS The order , degree , ndim"
      ],
      "metadata": {
        "id": "sznP9LOLleXU"
      }
    },
    {
      "cell_type": "code",
      "source": [
        "print(tb.rank(zerop))             # always returns tensor with type int32"
      ],
      "metadata": {
        "id": "MHsgibdRJVYk",
        "colab": {
          "base_uri": "https://localhost:8080/"
        },
        "outputId": "5e7cb304-1081-449d-c9ef-53da8e2be316"
      },
      "execution_count": null,
      "outputs": [
        {
          "output_type": "stream",
          "name": "stdout",
          "text": [
            "tf.Tensor(2, shape=(), dtype=int32)\n"
          ]
        }
      ]
    },
    {
      "cell_type": "code",
      "source": [],
      "metadata": {
        "id": "IN6SmNtIhO72"
      },
      "execution_count": null,
      "outputs": []
    },
    {
      "cell_type": "markdown",
      "source": [
        "tf.random.normal o/p's random value from normal distribution"
      ],
      "metadata": {
        "id": "GDwmkqkbmGWJ"
      }
    },
    {
      "cell_type": "code",
      "source": [
        "print(  tb.random.normal([4,2] ,mean=80, stddev =1.0 ,dtype = tb.float16)    )     # by default dtypefloatd"
      ],
      "metadata": {
        "colab": {
          "base_uri": "https://localhost:8080/"
        },
        "id": "5UAITU-QmFf6",
        "outputId": "93ae8ece-8dc9-4167-e87f-a5c9836768f6"
      },
      "execution_count": null,
      "outputs": [
        {
          "output_type": "stream",
          "name": "stdout",
          "text": [
            "tf.Tensor(\n",
            "[[80.6  79.75]\n",
            " [79.4  80.75]\n",
            " [78.7  79.5 ]\n",
            " [80.75 80.8 ]], shape=(4, 2), dtype=float16)\n"
          ]
        }
      ]
    },
    {
      "cell_type": "code",
      "source": [],
      "metadata": {
        "id": "-LPeH2sUhPCG"
      },
      "execution_count": null,
      "outputs": []
    },
    {
      "cell_type": "markdown",
      "source": [
        "tf.random.uniform o/p's random value from uniform distribution"
      ],
      "metadata": {
        "id": "bvRH9GpnriIA"
      }
    },
    {
      "cell_type": "code",
      "source": [
        "tb.random.uniform( [2,2] ,minval=0 ,maxval=5)"
      ],
      "metadata": {
        "id": "i5gyG4vfJJKm",
        "colab": {
          "base_uri": "https://localhost:8080/"
        },
        "outputId": "0ff52517-b18b-4f31-e747-a5b497d676ed"
      },
      "execution_count": null,
      "outputs": [
        {
          "output_type": "execute_result",
          "data": {
            "text/plain": [
              "<tf.Tensor: shape=(2, 2), dtype=float32, numpy=\n",
              "array([[3.091023  , 0.88374615],\n",
              "       [4.2071447 , 3.3095348 ]], dtype=float32)>"
            ]
          },
          "metadata": {},
          "execution_count": 81
        }
      ]
    },
    {
      "cell_type": "markdown",
      "source": [
        "TENSOR INDEXING"
      ],
      "metadata": {
        "id": "PpKZjpMeuryX"
      }
    },
    {
      "cell_type": "code",
      "source": [
        "ind = tb.constant( [1,4,5,6,9])\n",
        "print(ind[1:4])          #print(ind[4])"
      ],
      "metadata": {
        "colab": {
          "base_uri": "https://localhost:8080/"
        },
        "id": "088q0TO8ogYu",
        "outputId": "34258e7a-e53a-429a-c2ce-7935422d24c9"
      },
      "execution_count": null,
      "outputs": [
        {
          "output_type": "stream",
          "name": "stdout",
          "text": [
            "tf.Tensor([4 5 6], shape=(3,), dtype=int32)\n"
          ]
        }
      ]
    },
    {
      "cell_type": "code",
      "source": [
        "tb.range(2,11+1)     # to include thelast_onealso"
      ],
      "metadata": {
        "colab": {
          "base_uri": "https://localhost:8080/"
        },
        "id": "XEZE6XE_wOFk",
        "outputId": "0591db56-4cf8-41f4-b789-c8022e437bff"
      },
      "execution_count": null,
      "outputs": [
        {
          "output_type": "execute_result",
          "data": {
            "text/plain": [
              "<tf.Tensor: shape=(10,), dtype=int32, numpy=array([ 2,  3,  4,  5,  6,  7,  8,  9, 10, 11], dtype=int32)>"
            ]
          },
          "metadata": {},
          "execution_count": 83
        }
      ]
    },
    {
      "cell_type": "code",
      "source": [
        "ind[0:5:2]        #diff of two_in_tensor"
      ],
      "metadata": {
        "colab": {
          "base_uri": "https://localhost:8080/"
        },
        "id": "KJ8JlIHgxQrJ",
        "outputId": "4d9db635-d626-4722-8fbc-bc333b6b4e6f"
      },
      "execution_count": null,
      "outputs": [
        {
          "output_type": "execute_result",
          "data": {
            "text/plain": [
              "<tf.Tensor: shape=(3,), dtype=int32, numpy=array([1, 5, 9], dtype=int32)>"
            ]
          },
          "metadata": {},
          "execution_count": 84
        }
      ]
    },
    {
      "cell_type": "code",
      "source": [
        "# FOR 2D TENSORS i.e rows:columns\n",
        "\n",
        "two_d = tb.constant([\n",
        "    [1,4,6]\n",
        " ,[4,4,8], [4,79,51]  , [14,58,93]\n",
        "\n",
        "])\n",
        "print(two_d)"
      ],
      "metadata": {
        "colab": {
          "base_uri": "https://localhost:8080/"
        },
        "id": "uquVSjOsxQzg",
        "outputId": "ab897df2-605d-445e-efe1-3c10e10df739"
      },
      "execution_count": null,
      "outputs": [
        {
          "output_type": "stream",
          "name": "stdout",
          "text": [
            "tf.Tensor(\n",
            "[[ 1  4  6]\n",
            " [ 4  4  8]\n",
            " [ 4 79 51]\n",
            " [14 58 93]], shape=(4, 3), dtype=int32)\n"
          ]
        }
      ]
    },
    {
      "cell_type": "code",
      "source": [
        "print(two_d[ 0:3+1 , 0:2] )\n",
        "two_d[ ... , 2]"
      ],
      "metadata": {
        "colab": {
          "base_uri": "https://localhost:8080/"
        },
        "id": "bnabwjnnwOOi",
        "outputId": "03922d58-26ae-4d1a-9b20-d1268b845457"
      },
      "execution_count": null,
      "outputs": [
        {
          "output_type": "stream",
          "name": "stdout",
          "text": [
            "tf.Tensor(\n",
            "[[ 1  4]\n",
            " [ 4  4]\n",
            " [ 4 79]\n",
            " [14 58]], shape=(4, 2), dtype=int32)\n"
          ]
        },
        {
          "output_type": "execute_result",
          "data": {
            "text/plain": [
              "<tf.Tensor: shape=(4,), dtype=int32, numpy=array([ 6,  8, 51, 93], dtype=int32)>"
            ]
          },
          "metadata": {},
          "execution_count": 86
        }
      ]
    },
    {
      "cell_type": "code",
      "source": [
        "three_d = tb.constant([\n",
        "    [\n",
        "        [4,5,6],[4,8,0]\n",
        "    ],\n",
        "    [ [0,1,9] ,[7,3,8] ]\n",
        "\n",
        "])\n",
        "print(three_d.shape)\n"
      ],
      "metadata": {
        "colab": {
          "base_uri": "https://localhost:8080/"
        },
        "id": "hLKQ_QESwOXB",
        "outputId": "77ed2579-c3f0-4f63-b94d-5aa55d4e953a"
      },
      "execution_count": null,
      "outputs": [
        {
          "output_type": "stream",
          "name": "stdout",
          "text": [
            "(2, 2, 3)\n"
          ]
        }
      ]
    },
    {
      "cell_type": "code",
      "source": [
        "three_d[-1 , -1 , ...]"
      ],
      "metadata": {
        "colab": {
          "base_uri": "https://localhost:8080/"
        },
        "id": "OR83vvUCBRIj",
        "outputId": "5847245e-bf62-4b05-9602-032ff86394a0"
      },
      "execution_count": null,
      "outputs": [
        {
          "output_type": "execute_result",
          "data": {
            "text/plain": [
              "<tf.Tensor: shape=(3,), dtype=int32, numpy=array([7, 3, 8], dtype=int32)>"
            ]
          },
          "metadata": {},
          "execution_count": 98
        }
      ]
    },
    {
      "cell_type": "code",
      "source": [],
      "metadata": {
        "id": "tL2oE4EpBRKh"
      },
      "execution_count": null,
      "outputs": []
    },
    {
      "cell_type": "code",
      "source": [],
      "metadata": {
        "id": "HwidUGSPBROG"
      },
      "execution_count": null,
      "outputs": []
    }
  ]
}