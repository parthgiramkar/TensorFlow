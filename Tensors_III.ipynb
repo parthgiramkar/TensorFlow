{
  "cells": [
    {
      "cell_type": "markdown",
      "source": [
        "tf.expand_dims returns a tensor with a length 1 axis inserted at index axis"
      ],
      "metadata": {
        "id": "1YM6LoXL22an"
      }
    },
    {
      "cell_type": "code",
      "execution_count": 2,
      "metadata": {
        "colab": {
          "base_uri": "https://localhost:8080/"
        },
        "id": "xGp0nupZXG4W",
        "outputId": "a655d867-0066-4827-b839-08f6678283a5"
      },
      "outputs": [
        {
          "output_type": "stream",
          "name": "stdout",
          "text": [
            "(2, 3, 4)\n",
            "tf.Tensor(\n",
            "[[[ 1  4  2  1]\n",
            "  [ 8 96  4  1]\n",
            "  [ 0  5  6  7]]\n",
            "\n",
            " [[ 1  3  7  1]\n",
            "  [ 8 96  0  2]\n",
            "  [ 0  4  3  8]]], shape=(2, 3, 4), dtype=int32)\n"
          ]
        }
      ],
      "source": [
        "\n",
        "import tensorflow as tg\n",
        "f1 = tg.constant([\n",
        "    [\n",
        "        [1,4,2,1],[8,96,4,1],[0,5,6,7]\n",
        "    ],\n",
        "    [\n",
        "        [1,3,7,1],[8,96,0,2],[0,4,3,8]\n",
        "\n",
        "    ]\n",
        "])\n",
        "\n",
        "print(f1.shape)\n",
        "print(f1)"
      ]
    },
    {
      "cell_type": "code",
      "source": [
        "tg.expand_dims(f1,axis=1)           # u cansee how it inserts an extra 1dimension ,by seperating"
      ],
      "metadata": {
        "colab": {
          "base_uri": "https://localhost:8080/"
        },
        "id": "CEVVNM7a0qNf",
        "outputId": "68bfb77f-aaf5-4a4f-a4e0-c3d1bb29760b"
      },
      "execution_count": null,
      "outputs": [
        {
          "output_type": "execute_result",
          "data": {
            "text/plain": [
              "<tf.Tensor: shape=(2, 1, 3, 4), dtype=int32, numpy=\n",
              "array([[[[ 1,  4,  2,  1],\n",
              "         [ 8, 96,  4,  1],\n",
              "         [ 0,  5,  6,  7]]],\n",
              "\n",
              "\n",
              "       [[[ 1,  3,  7,  1],\n",
              "         [ 8, 96,  0,  2],\n",
              "         [ 0,  4,  3,  8]]]], dtype=int32)>"
            ]
          },
          "metadata": {},
          "execution_count": 5
        }
      ]
    },
    {
      "cell_type": "code",
      "source": [
        "tg.expand_dims(f1,axis=3)        # for the last_one runned it and seeit_got_concentratedinto one"
      ],
      "metadata": {
        "colab": {
          "base_uri": "https://localhost:8080/"
        },
        "id": "LMLbzYtL0qQ_",
        "outputId": "f9e82c11-27e0-4716-c66a-bb9cb3ac744d"
      },
      "execution_count": null,
      "outputs": [
        {
          "output_type": "execute_result",
          "data": {
            "text/plain": [
              "<tf.Tensor: shape=(2, 3, 4, 1), dtype=int32, numpy=\n",
              "array([[[[ 1],\n",
              "         [ 4],\n",
              "         [ 2],\n",
              "         [ 1]],\n",
              "\n",
              "        [[ 8],\n",
              "         [96],\n",
              "         [ 4],\n",
              "         [ 1]],\n",
              "\n",
              "        [[ 0],\n",
              "         [ 5],\n",
              "         [ 6],\n",
              "         [ 7]]],\n",
              "\n",
              "\n",
              "       [[[ 1],\n",
              "         [ 3],\n",
              "         [ 7],\n",
              "         [ 1]],\n",
              "\n",
              "        [[ 8],\n",
              "         [96],\n",
              "         [ 0],\n",
              "         [ 2]],\n",
              "\n",
              "        [[ 0],\n",
              "         [ 4],\n",
              "         [ 3],\n",
              "         [ 8]]]], dtype=int32)>"
            ]
          },
          "metadata": {},
          "execution_count": 13
        }
      ]
    },
    {
      "cell_type": "code",
      "source": [],
      "metadata": {
        "id": "-_RbNJmo2wFM"
      },
      "execution_count": null,
      "outputs": []
    },
    {
      "cell_type": "markdown",
      "source": [
        "squeeze Removes dimensions of size 1 from the shape of a tensor ,needs_tensor_of_size-1 for that particular shape"
      ],
      "metadata": {
        "id": "dn_KV_j64eac"
      }
    },
    {
      "cell_type": "code",
      "source": [
        "f2=tg.constant([\n",
        "    [[0,1,8,9,63,47,5123]]     # here at second axis there are 7i/p so cant be squeesed\n",
        "    ])\n",
        "print(f2)\n",
        "\n"
      ],
      "metadata": {
        "colab": {
          "base_uri": "https://localhost:8080/"
        },
        "id": "JP4LonQ02wNw",
        "outputId": "2bd5c595-74d8-461e-9cbd-334985345181"
      },
      "execution_count": null,
      "outputs": [
        {
          "output_type": "stream",
          "name": "stdout",
          "text": [
            "tf.Tensor([[[   0    1    8    9   63   47 5123]]], shape=(1, 1, 7), dtype=int32)\n"
          ]
        }
      ]
    },
    {
      "cell_type": "code",
      "source": [
        "tg.squeeze(f2,axis=1)"
      ],
      "metadata": {
        "colab": {
          "base_uri": "https://localhost:8080/"
        },
        "id": "eCwy6Z6q4Mry",
        "outputId": "ba5d920b-73be-4b59-ec7a-904e691dcdb2"
      },
      "execution_count": null,
      "outputs": [
        {
          "output_type": "execute_result",
          "data": {
            "text/plain": [
              "<tf.Tensor: shape=(1, 7), dtype=int32, numpy=array([[   0,    1,    8,    9,   63,   47, 5123]], dtype=int32)>"
            ]
          },
          "metadata": {},
          "execution_count": 50
        }
      ]
    },
    {
      "cell_type": "code",
      "source": [
        "print(f1)"
      ],
      "metadata": {
        "colab": {
          "base_uri": "https://localhost:8080/"
        },
        "id": "KcPtrFgl4MvR",
        "outputId": "cf32d85f-6b86-4205-a899-e30c50d5e4de"
      },
      "execution_count": null,
      "outputs": [
        {
          "output_type": "stream",
          "name": "stdout",
          "text": [
            "tf.Tensor(\n",
            "[[[ 1  4  2  1]\n",
            "  [ 8 96  4  1]\n",
            "  [ 0  5  6  7]]\n",
            "\n",
            " [[ 1  3  7  1]\n",
            "  [ 8 96  0  2]\n",
            "  [ 0  4  3  8]]], shape=(2, 3, 4), dtype=int32)\n"
          ]
        }
      ]
    },
    {
      "cell_type": "code",
      "source": [
        "# tf.reshape does not change the order of or the total number of elements in the tensor, and so it can reuse the underlying data buffer.\n",
        " # This makes it a fast operation independent of how big of a tensor it is operating on"
      ],
      "metadata": {
        "id": "y4WkgH9Q8axg"
      },
      "execution_count": null,
      "outputs": []
    },
    {
      "cell_type": "code",
      "source": [
        "f3= tg.constant([\n",
        "    [[1,3,2] ,[4,1,8]\n",
        "     ] , [ [4,1,2] , [4,5,8] ]\n",
        "])\n",
        "print(f3)"
      ],
      "metadata": {
        "colab": {
          "base_uri": "https://localhost:8080/"
        },
        "id": "3fBTgr-t8a1A",
        "outputId": "2ec7fcc5-2424-4662-a4c7-26d7824653ad"
      },
      "execution_count": 4,
      "outputs": [
        {
          "output_type": "stream",
          "name": "stdout",
          "text": [
            "tf.Tensor(\n",
            "[[[1 3 2]\n",
            "  [4 1 8]]\n",
            "\n",
            " [[4 1 2]\n",
            "  [4 5 8]]], shape=(2, 2, 3), dtype=int32)\n"
          ]
        }
      ]
    },
    {
      "cell_type": "code",
      "source": [
        "print(tg.reshape(f3,[6,2]))         # can reshaped to  any but taking care of total_elements_tpresentin f3"
      ],
      "metadata": {
        "colab": {
          "base_uri": "https://localhost:8080/"
        },
        "id": "dgIUowE6-947",
        "outputId": "94c4ea39-2cf5-4324-8984-967f1098ba53"
      },
      "execution_count": 5,
      "outputs": [
        {
          "output_type": "stream",
          "name": "stdout",
          "text": [
            "tf.Tensor(\n",
            "[[1 3]\n",
            " [2 4]\n",
            " [1 8]\n",
            " [4 1]\n",
            " [2 4]\n",
            " [5 8]], shape=(6, 2), dtype=int32)\n"
          ]
        }
      ]
    },
    {
      "cell_type": "code",
      "source": [],
      "metadata": {
        "id": "jEdOzljA_z8q"
      },
      "execution_count": null,
      "outputs": []
    },
    {
      "cell_type": "code",
      "source": [],
      "metadata": {
        "id": "Iw7Ja3fAAY8o"
      },
      "execution_count": null,
      "outputs": []
    },
    {
      "cell_type": "code",
      "source": [],
      "metadata": {
        "id": "dDshPKNmAZAP"
      },
      "execution_count": null,
      "outputs": []
    },
    {
      "cell_type": "code",
      "source": [],
      "metadata": {
        "id": "9Xl6HUHO_0A0"
      },
      "execution_count": null,
      "outputs": []
    }
  ],
  "metadata": {
    "colab": {
      "provenance": []
    },
    "kernelspec": {
      "display_name": "Python 3",
      "name": "python3"
    },
    "language_info": {
      "name": "python"
    }
  },
  "nbformat": 4,
  "nbformat_minor": 0
}