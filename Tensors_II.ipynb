{
  "nbformat": 4,
  "nbformat_minor": 0,
  "metadata": {
    "colab": {
      "provenance": []
    },
    "kernelspec": {
      "name": "python3",
      "display_name": "Python 3"
    },
    "language_info": {
      "name": "python"
    }
  },
  "cells": [
    {
      "cell_type": "code",
      "execution_count": 2,
      "metadata": {
        "id": "4GjBAF3tCw-y"
      },
      "outputs": [],
      "source": [
        "import tensorflow as tk"
      ]
    },
    {
      "cell_type": "markdown",
      "source": [
        "PERFORMING MATHEMATICAL OPERATIONS"
      ],
      "metadata": {
        "id": "7-V2zGQgC705"
      }
    },
    {
      "cell_type": "code",
      "source": [
        "# tf.math.abs METHOD  returns absolute_value of tensor\n",
        "\n",
        "xy = tk.abs([2,1,-8,7])\n",
        "print(xy)"
      ],
      "metadata": {
        "colab": {
          "base_uri": "https://localhost:8080/"
        },
        "id": "0YpJGTYkC6mn",
        "outputId": "2e0e951e-10bc-49b2-e88f-553cdde6f22d"
      },
      "execution_count": null,
      "outputs": [
        {
          "output_type": "stream",
          "name": "stdout",
          "text": [
            "tf.Tensor([2 1 8 7], shape=(4,), dtype=int32)\n"
          ]
        }
      ]
    },
    {
      "cell_type": "code",
      "source": [
        "# FOR COMPLEX NUMEBRS\n",
        "\n",
        "xys = tk.abs([ [-2.5+1.2j]  ])\n",
        "print(xys)\n"
      ],
      "metadata": {
        "colab": {
          "base_uri": "https://localhost:8080/"
        },
        "id": "pLsrijznC6qB",
        "outputId": "642313eb-c388-483f-c595-83fed557f153"
      },
      "execution_count": null,
      "outputs": [
        {
          "output_type": "stream",
          "name": "stdout",
          "text": [
            "tf.Tensor([[2.77308492]], shape=(1, 1), dtype=float64)\n"
          ]
        }
      ]
    },
    {
      "cell_type": "code",
      "source": [
        "# checkingcross the answer using funct\n",
        "\n",
        "tk.sqrt( (-2.5)**2 + (1.2)**2)"
      ],
      "metadata": {
        "colab": {
          "base_uri": "https://localhost:8080/"
        },
        "id": "TYpnGpPAD85t",
        "outputId": "28f46057-8de5-4a14-e2c6-f31a62699cfa"
      },
      "execution_count": null,
      "outputs": [
        {
          "output_type": "execute_result",
          "data": {
            "text/plain": [
              "<tf.Tensor: shape=(), dtype=float32, numpy=2.773084878921509>"
            ]
          },
          "metadata": {},
          "execution_count": 16
        }
      ]
    },
    {
      "cell_type": "code",
      "source": [],
      "metadata": {
        "id": "K0suoYZfDC8F"
      },
      "execution_count": null,
      "outputs": []
    },
    {
      "cell_type": "code",
      "source": [
        "# ADD OPERATION\n",
        "y1 = [1,2,5,8]\n",
        "y3 = 15\n",
        "tk.add(y1,y3)\n",
        "\n",
        "# OR THIS\n",
        "y1=tk.constant( [1,2,5,8] )\n",
        "y3 = tk.convert_to_tensor(y3)\n",
        "print(y1+y3)\n",
        "print(tk.multiply(y1,y3))              #this is not actual matmultiplication,this on place of index_itself\n"
      ],
      "metadata": {
        "colab": {
          "base_uri": "https://localhost:8080/"
        },
        "id": "kygiQ3vKDDCo",
        "outputId": "a692f3c8-4ab6-44d4-f46d-dfdbd61b69a5"
      },
      "execution_count": null,
      "outputs": [
        {
          "output_type": "stream",
          "name": "stdout",
          "text": [
            "tf.Tensor([16 17 20 23], shape=(4,), dtype=int32)\n",
            "tf.Tensor([ 15  30  75 120], shape=(4,), dtype=int32)\n"
          ]
        }
      ]
    },
    {
      "cell_type": "code",
      "source": [
        "y1=tk.constant( [1,2,5,8] )\n",
        "y3 = tk.convert_to_tensor([15])         # size should beofbothsame/dimenson or error\n",
        "y1+y3"
      ],
      "metadata": {
        "colab": {
          "base_uri": "https://localhost:8080/"
        },
        "id": "3RUVOp8lFK7E",
        "outputId": "13402d50-18a3-407d-94d9-3bcb4c5c55e2"
      },
      "execution_count": null,
      "outputs": [
        {
          "output_type": "execute_result",
          "data": {
            "text/plain": [
              "<tf.Tensor: shape=(4,), dtype=int32, numpy=array([16, 17, 20, 23], dtype=int32)>"
            ]
          },
          "metadata": {},
          "execution_count": 18
        }
      ]
    },
    {
      "cell_type": "code",
      "source": [
        "# argmax METHOD\n",
        "\n",
        "y1=tk.constant( [1,2,5,8 ,154 ,28 ,56] )       #indexwith_largest_value\n",
        "\n",
        "print(tk.math.argmin(y1))\n",
        "\n",
        "tk.math.argmax(y1)\n",
        "\n"
      ],
      "metadata": {
        "colab": {
          "base_uri": "https://localhost:8080/"
        },
        "id": "zkBoZsitIOdB",
        "outputId": "1120164b-6852-4689-a089-6ab02257fabf"
      },
      "execution_count": null,
      "outputs": [
        {
          "output_type": "stream",
          "name": "stdout",
          "text": [
            "tf.Tensor(0, shape=(), dtype=int64)\n"
          ]
        },
        {
          "output_type": "execute_result",
          "data": {
            "text/plain": [
              "<tf.Tensor: shape=(), dtype=int64, numpy=4>"
            ]
          },
          "metadata": {},
          "execution_count": 19
        }
      ]
    },
    {
      "cell_type": "code",
      "source": [
        "# POW METHOD\n",
        "\n",
        "j1 =  tk.constant( [1,2,4,5,6] )\n",
        "j2 = tk.constant( [ 4,6,9,3,10] )\n",
        "\n",
        "tk.pow(j1,j2)"
      ],
      "metadata": {
        "colab": {
          "base_uri": "https://localhost:8080/"
        },
        "id": "ImlSz6ByIOh_",
        "outputId": "91fc7e33-577e-4673-e17d-042bb8d53d7a"
      },
      "execution_count": null,
      "outputs": [
        {
          "output_type": "execute_result",
          "data": {
            "text/plain": [
              "<tf.Tensor: shape=(5,), dtype=int32, numpy=array([       1,       64,   262144,      125, 60466176], dtype=int32)>"
            ]
          },
          "metadata": {},
          "execution_count": 20
        }
      ]
    },
    {
      "cell_type": "code",
      "source": [
        "# math.reduce_mean calc. sum of elements_across dimensions , math.reduce_sum\n",
        "\n",
        "j3 = tk.constant([\n",
        "    [1,2,9] ,\n",
        "     [4,0,9],\n",
        "      [8,7,3]\n",
        "])\n",
        "\n",
        "print(tk.math.reduce_mean(j3 , axis=1) )\n",
        "\n",
        "tk.math.reduce_sum(j3,axis=0)                  # axis=0 down and axis=1 across_the_line\n"
      ],
      "metadata": {
        "colab": {
          "base_uri": "https://localhost:8080/"
        },
        "id": "z0V9xKdqPGEe",
        "outputId": "9196901e-98d1-455b-f208-ddd5e394b42e"
      },
      "execution_count": null,
      "outputs": [
        {
          "output_type": "stream",
          "name": "stdout",
          "text": [
            "tf.Tensor([4 4 6], shape=(3,), dtype=int32)\n"
          ]
        },
        {
          "output_type": "execute_result",
          "data": {
            "text/plain": [
              "<tf.Tensor: shape=(3,), dtype=int32, numpy=array([13,  9, 21], dtype=int32)>"
            ]
          },
          "metadata": {},
          "execution_count": 21
        }
      ]
    },
    {
      "cell_type": "code",
      "source": [
        "print ( tk.math.reduce_min(j3)  )              # it returns max_element and also the indexes\n",
        "print( tk.math.top_k(j3,2))"
      ],
      "metadata": {
        "id": "hIJz3eEYRkj9",
        "colab": {
          "base_uri": "https://localhost:8080/"
        },
        "outputId": "8c95675c-e592-40de-e3c5-d1cdd83fe18b"
      },
      "execution_count": null,
      "outputs": [
        {
          "output_type": "stream",
          "name": "stdout",
          "text": [
            "tf.Tensor(0, shape=(), dtype=int32)\n",
            "TopKV2(values=<tf.Tensor: shape=(3, 2), dtype=int32, numpy=\n",
            "array([[9, 2],\n",
            "       [9, 4],\n",
            "       [8, 7]], dtype=int32)>, indices=<tf.Tensor: shape=(3, 2), dtype=int32, numpy=\n",
            "array([[2, 1],\n",
            "       [2, 0],\n",
            "       [0, 1]], dtype=int32)>)\n"
          ]
        }
      ]
    },
    {
      "cell_type": "code",
      "source": [],
      "metadata": {
        "id": "RrvXkDiLRkpb"
      },
      "execution_count": null,
      "outputs": []
    },
    {
      "cell_type": "code",
      "source": [],
      "metadata": {
        "id": "fp2nOF8C5h5z"
      },
      "execution_count": null,
      "outputs": []
    },
    {
      "cell_type": "markdown",
      "source": [
        "PERFORMING LINEAR ALGEBRAIC OPERATIONS"
      ],
      "metadata": {
        "id": "82UoOXDa7fdi"
      }
    },
    {
      "cell_type": "code",
      "source": [
        "# ON 2D(MATRIX)\n",
        "\n",
        "g1 = tk.constant([[\n",
        "  4,5,3] , [4,8,9]\n",
        "])\n",
        "print(g1).shape)\n",
        "g2 = tk.constant([[\n",
        "  1,9,0] , [1,8,0] ,[4,8,3]\n",
        "])\n",
        "print(g2.shape)\n"
      ],
      "metadata": {
        "colab": {
          "base_uri": "https://localhost:8080/"
        },
        "id": "chF8sMfz5h-5",
        "outputId": "724010d1-367d-47e3-956a-1f94ef87d6c4"
      },
      "execution_count": null,
      "outputs": [
        {
          "output_type": "stream",
          "name": "stdout",
          "text": [
            "(2, 3)\n",
            "(3, 3)\n"
          ]
        }
      ]
    },
    {
      "cell_type": "code",
      "source": [
        "tk.matmul(g1,g2)"
      ],
      "metadata": {
        "id": "mMzZvdf8Szee",
        "colab": {
          "base_uri": "https://localhost:8080/"
        },
        "outputId": "1a819916-954e-4f2e-e5bb-823397d909a3"
      },
      "execution_count": null,
      "outputs": [
        {
          "output_type": "execute_result",
          "data": {
            "text/plain": [
              "<tf.Tensor: shape=(2, 3), dtype=int32, numpy=\n",
              "array([[ 21, 100,   9],\n",
              "       [ 48, 172,  27]], dtype=int32)>"
            ]
          },
          "metadata": {},
          "execution_count": 24
        }
      ]
    },
    {
      "cell_type": "code",
      "source": [
        "g1@g2"
      ],
      "metadata": {
        "colab": {
          "base_uri": "https://localhost:8080/"
        },
        "id": "DG7oGSdr7nGx",
        "outputId": "6bf6789d-3121-4bbe-d065-c36c5cda060f"
      },
      "execution_count": null,
      "outputs": [
        {
          "output_type": "execute_result",
          "data": {
            "text/plain": [
              "<tf.Tensor: shape=(2, 3), dtype=int32, numpy=\n",
              "array([[ 21, 100,   9],\n",
              "       [ 48, 172,  27]], dtype=int32)>"
            ]
          },
          "metadata": {},
          "execution_count": 25
        }
      ]
    },
    {
      "cell_type": "code",
      "source": [
        "# here the cols becomes rows\n",
        "print(tk.transpose(g1) )\n",
        "g1                             # the shape changes"
      ],
      "metadata": {
        "colab": {
          "base_uri": "https://localhost:8080/"
        },
        "id": "g8K1_vm17nNj",
        "outputId": "6971b94a-df32-4f60-ada5-b2df0f90764b"
      },
      "execution_count": null,
      "outputs": [
        {
          "output_type": "stream",
          "name": "stdout",
          "text": [
            "tf.Tensor(\n",
            "[[4 4]\n",
            " [5 8]\n",
            " [3 9]], shape=(3, 2), dtype=int32)\n"
          ]
        },
        {
          "output_type": "execute_result",
          "data": {
            "text/plain": [
              "<tf.Tensor: shape=(2, 3), dtype=int32, numpy=\n",
              "array([[4, 5, 3],\n",
              "       [4, 8, 9]], dtype=int32)>"
            ]
          },
          "metadata": {},
          "execution_count": 26
        }
      ]
    },
    {
      "cell_type": "code",
      "source": [
        "# ON 3D-MATRIX\n",
        "\n",
        "k1 = tk.constant([\n",
        " [  [1,2] ,[4,5] , [6,7] ] ,         #here in3d matrix size should match_withother_one\n",
        " [  [4,5] ,[7,89],[4,9] ]               # 3*2\n",
        "\n",
        "])\n",
        "print(k1.shape)\n",
        "\n",
        "k2 = tk.constant([\n",
        "    [  [1,5] ,[4,4] ] ,                       #2*2\n",
        " [  [4,0] ,[94,1] ]\n",
        "\n",
        "])\n",
        "\n",
        "tk.matmul(k1,k2)\n"
      ],
      "metadata": {
        "id": "p5-zSqLRPGJz",
        "colab": {
          "base_uri": "https://localhost:8080/"
        },
        "outputId": "6e9b0ca8-a23f-480c-ad17-74bc71cefa06"
      },
      "execution_count": 4,
      "outputs": [
        {
          "output_type": "stream",
          "name": "stdout",
          "text": [
            "(2, 3, 2)\n"
          ]
        },
        {
          "output_type": "execute_result",
          "data": {
            "text/plain": [
              "<tf.Tensor: shape=(2, 3, 2), dtype=int32, numpy=\n",
              "array([[[   9,   13],\n",
              "        [  24,   40],\n",
              "        [  34,   58]],\n",
              "\n",
              "       [[ 486,    5],\n",
              "        [8394,   89],\n",
              "        [ 862,    9]]], dtype=int32)>"
            ]
          },
          "metadata": {},
          "execution_count": 4
        }
      ]
    },
    {
      "cell_type": "code",
      "source": [
        "#cross product needing same size\n",
        "\n",
        "s1 = tk.constant([[             #this is rowise product\n",
        "  4,5,3] , [4,8,9],[1,2,5]\n",
        "])\n",
        "\n",
        "s2 = tk.constant([[\n",
        "  1,9,0] , [1,8,0] ,[4,8,3]\n",
        "])\n",
        "\n",
        "tk.linalg.cross(s1,s2)"
      ],
      "metadata": {
        "colab": {
          "base_uri": "https://localhost:8080/"
        },
        "id": "wMbzXdrb92cp",
        "outputId": "2a7fc24b-f420-41af-f27e-fc7b7e92e989"
      },
      "execution_count": null,
      "outputs": [
        {
          "output_type": "execute_result",
          "data": {
            "text/plain": [
              "<tf.Tensor: shape=(3, 3), dtype=int32, numpy=\n",
              "array([[-27,   3,  31],\n",
              "       [-72,   9,  24],\n",
              "       [-34,  17,   0]], dtype=int32)>"
            ]
          },
          "metadata": {},
          "execution_count": 28
        }
      ]
    },
    {
      "cell_type": "code",
      "source": [],
      "metadata": {
        "id": "0jdXr6uiKlQR"
      },
      "execution_count": null,
      "outputs": []
    },
    {
      "cell_type": "code",
      "source": [
        "# Inverse of matrix\n",
        "\n",
        "s2 = tk.constant([[              #must beof float and comlpex_data_type\n",
        "  1,9,0] , [1,8,0] ,[4,8,3]\n",
        "]  , dtype=tk.float32)\n",
        "\n",
        "tk.linalg.inv(s2)"
      ],
      "metadata": {
        "colab": {
          "base_uri": "https://localhost:8080/"
        },
        "id": "0fqPCsCZMB-f",
        "outputId": "254a3ff7-b4a8-4fb8-e580-5dd92c023a85"
      },
      "execution_count": null,
      "outputs": [
        {
          "output_type": "execute_result",
          "data": {
            "text/plain": [
              "<tf.Tensor: shape=(3, 3), dtype=float32, numpy=\n",
              "array([[-8.0000000e+00,  9.0000000e+00,  1.4901161e-08],\n",
              "       [ 1.0000000e+00, -1.0000000e+00, -2.1287374e-09],\n",
              "       [ 8.0000000e+00, -9.3333330e+00,  3.3333331e-01]], dtype=float32)>"
            ]
          },
          "metadata": {},
          "execution_count": 29
        }
      ]
    },
    {
      "cell_type": "code",
      "source": [
        "# a is a tensor\n",
        "# s is a tensor of singular values\n",
        "# u is a tensor of left singular vectors\n",
        "# v is a tensor of right singular vectors     returns singular value_decompostition ofone_more_matrices\n",
        "\n",
        "s ,u,v=  tk.linalg.svd(s2)\n",
        "print(s,v)"
      ],
      "metadata": {
        "colab": {
          "base_uri": "https://localhost:8080/"
        },
        "id": "4nIvbOY5QW1n",
        "outputId": "bed475a2-d7d2-4d35-8cca-94c3728c7a01"
      },
      "execution_count": null,
      "outputs": [
        {
          "output_type": "stream",
          "name": "stdout",
          "text": [
            "tf.Tensor([14.967265   3.4608653  0.0579154], shape=(3,), dtype=float32) tf.Tensor(\n",
            "[[ 0.23634711  0.6766912  -0.69730127]\n",
            " [ 0.9641298  -0.25254124  0.08171052]\n",
            " [ 0.12080454  0.6916009   0.7121055 ]], shape=(3, 3), dtype=float32)\n"
          ]
        }
      ]
    },
    {
      "cell_type": "code",
      "source": [],
      "metadata": {
        "id": "Cue0dQi3QW8c"
      },
      "execution_count": null,
      "outputs": []
    },
    {
      "cell_type": "code",
      "source": [
        "# tf.einsum METHOD\n",
        "import numpy as np\n",
        "\n",
        "a=np.array([\n",
        "    [4,5] , [9,6] , [1,2]\n",
        "])\n",
        "print(a.shape)\n",
        "b=np.array([\n",
        "    [4,5,9,6,0] , [9,6,1,4,0]\n",
        "])\n",
        "print(b.shape)\n",
        "\n",
        "print('MATRIX C - ')\n",
        "print(np.matmul(a,b))"
      ],
      "metadata": {
        "id": "IMkBRZtpMCBy",
        "colab": {
          "base_uri": "https://localhost:8080/"
        },
        "outputId": "6cbbe7a3-49ea-4e45-a9c6-9a22cda09be1"
      },
      "execution_count": 6,
      "outputs": [
        {
          "output_type": "stream",
          "name": "stdout",
          "text": [
            "(3, 2)\n",
            "(2, 5)\n",
            "MATRIX C - \n",
            "[[61 50 41 44  0]\n",
            " [90 81 87 78  0]\n",
            " [22 17 11 14  0]]\n"
          ]
        }
      ]
    },
    {
      "cell_type": "code",
      "source": [
        "print('einsum C -')\n",
        "print(np.einsum('ij,jk->ik',a,b))         # the script must_ beinside the string"
      ],
      "metadata": {
        "colab": {
          "base_uri": "https://localhost:8080/"
        },
        "id": "a4Bc7Ai5GsVX",
        "outputId": "44be9885-fa9f-4270-edd9-3b71ce597c3d"
      },
      "execution_count": null,
      "outputs": [
        {
          "output_type": "stream",
          "name": "stdout",
          "text": [
            "einsum C -\n",
            "[[61 50 41 44  0]\n",
            " [90 81 87 78  0]\n",
            " [22 17 11 14  0]]\n"
          ]
        }
      ]
    },
    {
      "cell_type": "code",
      "source": [
        "print('TRANSPOSE OF MATRIX - ')\n",
        "print(a.T)\n",
        "\n",
        "# using ensum method to find transpose\n",
        "print('ensum of a -')\n",
        "print(np.einsum(\"ij->ji\",a))            # for transpose"
      ],
      "metadata": {
        "colab": {
          "base_uri": "https://localhost:8080/"
        },
        "id": "-i0uHecXGsZ5",
        "outputId": "2c79db11-b3d0-4f55-d76e-1bd90f6f04e2"
      },
      "execution_count": null,
      "outputs": [
        {
          "output_type": "stream",
          "name": "stdout",
          "text": [
            "TRANSPOSE OF MATRIX - \n",
            "[[4 9 1]\n",
            " [5 6 2]]\n",
            "ensum of a -\n",
            "[[4 9 1]\n",
            " [5 6 2]]\n"
          ]
        }
      ]
    },
    {
      "cell_type": "code",
      "source": [],
      "metadata": {
        "id": "scNWCg8dGsh0"
      },
      "execution_count": null,
      "outputs": []
    },
    {
      "cell_type": "code",
      "source": [
        "f1 = np.array([\n",
        "    [\n",
        "        [1,4,2,1],[8,96,4,1],[0,5,6,7]\n",
        "    ],\n",
        "    [\n",
        "        [1,3,7,1],[8,96,0,2],[0,4,3,8]\n",
        "\n",
        "    ]\n",
        "])\n",
        "print(f1.shape)\n",
        "f2=np.array([\n",
        " [[ 1,  2,  3,  4,  5],\n",
        "  [ 6,  7,  8,  9, 10],\n",
        "  [11, 12, 13, 14, 15],\n",
        "  [16, 17, 18, 19, 20]],\n",
        "\n",
        " [[21, 22, 23, 24, 25],\n",
        "  [26, 27, 28, 29, 30],\n",
        "  [31, 32, 33, 34, 35],\n",
        "  [36, 37, 38, 39, 40]]\n",
        "\n",
        "])\n",
        "\n",
        "print(f2.shape)\n",
        "# normal_multipl\n",
        "print( np.matmul(f1,f2) )\n",
        "\n",
        "#using einsum\n",
        "\n",
        "print('einsum c - ')\n",
        "print(np.einsum(\"bij,bjk->bik\",f1,f2))    #compare_the scriptwith_dimensions_tounderstand\n",
        "\n"
      ],
      "metadata": {
        "id": "KZCVBJuw92hj",
        "colab": {
          "base_uri": "https://localhost:8080/"
        },
        "outputId": "68814154-936f-4efe-c769-92c512915fe5"
      },
      "execution_count": 9,
      "outputs": [
        {
          "output_type": "stream",
          "name": "stdout",
          "text": [
            "(2, 3, 4)\n",
            "(2, 4, 5)\n",
            "[[[  63   71   79   87   95]\n",
            "  [ 644  753  862  971 1080]\n",
            "  [ 208  226  244  262  280]]\n",
            "\n",
            " [[ 352  364  376  388  400]\n",
            "  [2736 2842 2948 3054 3160]\n",
            "  [ 485  500  515  530  545]]]\n",
            "einsum c - \n",
            "[[[  63   71   79   87   95]\n",
            "  [ 644  753  862  971 1080]\n",
            "  [ 208  226  244  262  280]]\n",
            "\n",
            " [[ 352  364  376  388  400]\n",
            "  [2736 2842 2948 3054 3160]\n",
            "  [ 485  500  515  530  545]]]\n"
          ]
        }
      ]
    },
    {
      "cell_type": "code",
      "source": [
        "# for sum\n",
        "print(np.einsum(\"bij-> \",f1))"
      ],
      "metadata": {
        "colab": {
          "base_uri": "https://localhost:8080/"
        },
        "id": "ODbb4DtUNbPp",
        "outputId": "8f131e3b-3e0d-4ab6-bc99-9d3bbc70a879"
      },
      "execution_count": null,
      "outputs": [
        {
          "output_type": "stream",
          "name": "stdout",
          "text": [
            "268\n"
          ]
        }
      ]
    },
    {
      "cell_type": "code",
      "source": [],
      "metadata": {
        "id": "vme-3KD_NbeT"
      },
      "execution_count": null,
      "outputs": []
    },
    {
      "cell_type": "code",
      "source": [],
      "metadata": {
        "id": "vp3f3-OPMxHg"
      },
      "execution_count": null,
      "outputs": []
    },
    {
      "cell_type": "code",
      "source": [],
      "metadata": {
        "id": "BbGGmQ0AMxPW"
      },
      "execution_count": null,
      "outputs": []
    }
  ]
}